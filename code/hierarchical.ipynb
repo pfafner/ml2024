{
 "cells": [
  {
   "cell_type": "markdown",
   "metadata": {},
   "source": [
    "# **Elements of Machine Learning 2024** <font size=4 color='gray'>Alan Reyes-Figueroa</font>\n",
    "#### <font color='gray'>Agrupamiento Jerárquico</font>"
   ]
  },
  {
   "cell_type": "code",
   "execution_count": null,
   "metadata": {},
   "outputs": [],
   "source": [
    "import numpy as np\n",
    "import matplotlib.pyplot as plt\n",
    "\n",
    "from scipy.cluster.hierarchy import dendrogram, linkage\n",
    "from sklearn.cluster import AgglomerativeClustering\n",
    "\n",
    "from sklearn.datasets import load_iris, make_circles, make_moons, make_blobs"
   ]
  },
  {
   "cell_type": "code",
   "execution_count": null,
   "metadata": {},
   "outputs": [],
   "source": []
  },
  {
   "cell_type": "markdown",
   "metadata": {},
   "source": [
    "# Agrupamiento Jerárquico"
   ]
  },
  {
   "cell_type": "markdown",
   "metadata": {},
   "source": [
    "### Burbujas"
   ]
  },
  {
   "cell_type": "code",
   "execution_count": null,
   "metadata": {},
   "outputs": [],
   "source": [
    "# 2024, 0\n",
    "np.random.seed(10)\n",
    "data, colors = make_blobs(n_samples=250, n_features=2)"
   ]
  },
  {
   "cell_type": "code",
   "execution_count": null,
   "metadata": {},
   "outputs": [],
   "source": [
    "print(data.shape, colors.shape)"
   ]
  },
  {
   "cell_type": "code",
   "execution_count": null,
   "metadata": {},
   "outputs": [],
   "source": [
    "plt.figure()\n",
    "plt.scatter(data[:,0], data[:,1], c=colors)\n",
    "plt.show()"
   ]
  },
  {
   "cell_type": "code",
   "execution_count": null,
   "metadata": {},
   "outputs": [],
   "source": [
    "# parámetros\n",
    "\n",
    "k = 3\n",
    "dist = 'jaccard'"
   ]
  },
  {
   "cell_type": "code",
   "execution_count": null,
   "metadata": {},
   "outputs": [],
   "source": [
    "# método = 'single'\n",
    "model_s = AgglomerativeClustering(n_clusters=k, metric=dist, linkage='single')\n",
    "model_s.fit(data)\n",
    "labels_s = model_s.labels_\n",
    "\n",
    "# método = 'complete'\n",
    "model_c = AgglomerativeClustering(n_clusters=k, metric=dist, linkage='complete')\n",
    "model_c.fit(data)\n",
    "labels_c = model_c.labels_\n",
    "\n",
    "# método = 'average'\n",
    "model_a = AgglomerativeClustering(n_clusters=k, metric=dist, linkage='average')\n",
    "model_a.fit(data)\n",
    "labels_a = model_a.labels_\n",
    "\n",
    "# método = 'ward'\n",
    "model_w = AgglomerativeClustering(n_clusters=k, metric='euclidean', linkage='ward')\n",
    "model_w.fit(data)\n",
    "labels_w = model_w.labels_"
   ]
  },
  {
   "cell_type": "code",
   "execution_count": null,
   "metadata": {},
   "outputs": [],
   "source": [
    "labels = [labels_s, labels_c, labels_a, labels_w]\n",
    "models = ['single', 'complete', 'average', 'ward']\n",
    "\n",
    "plt.figure(figsize=(16,4))\n",
    "for i in range(0,4):\n",
    "    plt.subplot(1,4,i+1)\n",
    "    plt.scatter(data[:,0], data[:,1], c=labels[i])\n",
    "    plt.title('method = {}'.format(models[i]))\n",
    "plt.show()"
   ]
  },
  {
   "cell_type": "code",
   "execution_count": null,
   "metadata": {},
   "outputs": [],
   "source": [
    "labels_a"
   ]
  },
  {
   "cell_type": "code",
   "execution_count": null,
   "metadata": {},
   "outputs": [],
   "source": []
  },
  {
   "cell_type": "code",
   "execution_count": null,
   "metadata": {},
   "outputs": [],
   "source": [
    "link = linkage(data, metric='euclidean', method='weighted', optimal_ordering=True)"
   ]
  },
  {
   "cell_type": "code",
   "execution_count": null,
   "metadata": {},
   "outputs": [],
   "source": [
    "plt.figure(figsize=(10,4))\n",
    "D = dendrogram(link, color_threshold=5.0)\n",
    "plt.show()"
   ]
  },
  {
   "cell_type": "code",
   "execution_count": null,
   "metadata": {},
   "outputs": [],
   "source": [
    "D.keys()"
   ]
  },
  {
   "cell_type": "code",
   "execution_count": null,
   "metadata": {},
   "outputs": [],
   "source": [
    "print(list(D['color_list']))"
   ]
  },
  {
   "cell_type": "code",
   "execution_count": null,
   "metadata": {},
   "outputs": [],
   "source": []
  },
  {
   "cell_type": "markdown",
   "metadata": {},
   "source": [
    "### Moons"
   ]
  },
  {
   "cell_type": "code",
   "execution_count": null,
   "metadata": {},
   "outputs": [],
   "source": [
    "data, colors = make_moons(n_samples=250, noise=0.1, random_state=2021)"
   ]
  },
  {
   "cell_type": "code",
   "execution_count": null,
   "metadata": {},
   "outputs": [],
   "source": [
    "print(data.shape, colors.shape)"
   ]
  },
  {
   "cell_type": "code",
   "execution_count": null,
   "metadata": {},
   "outputs": [],
   "source": [
    "plt.figure()\n",
    "plt.scatter(data[:,0], data[:,1], c=colors)\n",
    "plt.show()"
   ]
  },
  {
   "cell_type": "code",
   "execution_count": null,
   "metadata": {},
   "outputs": [],
   "source": [
    "# parámetros\n",
    "\n",
    "k = 2\n",
    "dist = 'euclidean'"
   ]
  },
  {
   "cell_type": "code",
   "execution_count": null,
   "metadata": {},
   "outputs": [],
   "source": [
    "# método = 'single'\n",
    "model_s = AgglomerativeClustering(n_clusters=k, metric=dist, linkage='single')\n",
    "model_s.fit(data)\n",
    "labels_s = model_s.labels_\n",
    "\n",
    "# método = 'complete'\n",
    "model_c = AgglomerativeClustering(n_clusters=k, metric=dist, linkage='complete')\n",
    "model_c.fit(data)\n",
    "labels_c = model_c.labels_\n",
    "\n",
    "# método = 'average'\n",
    "model_a = AgglomerativeClustering(n_clusters=k, metric=dist, linkage='average')\n",
    "model_a.fit(data)\n",
    "labels_a = model_a.labels_\n",
    "\n",
    "# método = 'ward'\n",
    "model_w = AgglomerativeClustering(n_clusters=k, metric='euclidean', linkage='ward')\n",
    "model_w.fit(data)\n",
    "labels_w = model_w.labels_"
   ]
  },
  {
   "cell_type": "code",
   "execution_count": null,
   "metadata": {},
   "outputs": [],
   "source": [
    "labels = [labels_s, labels_c, labels_a, labels_w]\n",
    "models = ['single', 'complete', 'average', 'ward']\n",
    "\n",
    "plt.figure(figsize=(16,4))\n",
    "for i in range(0,4):\n",
    "    plt.subplot(1,4,i+1)\n",
    "    plt.scatter(data[:,0], data[:,1], c=labels[i])\n",
    "    plt.title('method = {}'.format(models[i]))\n",
    "plt.show()"
   ]
  },
  {
   "cell_type": "code",
   "execution_count": null,
   "metadata": {},
   "outputs": [],
   "source": []
  },
  {
   "cell_type": "code",
   "execution_count": null,
   "metadata": {},
   "outputs": [],
   "source": [
    "link = linkage(data, metric='euclidean', method='single', optimal_ordering=True)\n",
    "\n",
    "plt.figure(figsize=(6,4))\n",
    "D = dendrogram(link, color_threshold=.170)\n",
    "plt.show()"
   ]
  },
  {
   "cell_type": "code",
   "execution_count": null,
   "metadata": {},
   "outputs": [],
   "source": []
  },
  {
   "cell_type": "markdown",
   "metadata": {},
   "source": [
    "### Circles"
   ]
  },
  {
   "cell_type": "code",
   "execution_count": null,
   "metadata": {},
   "outputs": [],
   "source": [
    "data, colors = make_circles(n_samples=200, noise=0.01)"
   ]
  },
  {
   "cell_type": "code",
   "execution_count": null,
   "metadata": {},
   "outputs": [],
   "source": [
    "print(data.shape, colors.shape)"
   ]
  },
  {
   "cell_type": "code",
   "execution_count": null,
   "metadata": {},
   "outputs": [],
   "source": [
    "plt.figure(figsize=(4,4))\n",
    "plt.scatter(data[:,0], data[:,1], c=colors)\n",
    "plt.show()"
   ]
  },
  {
   "cell_type": "code",
   "execution_count": null,
   "metadata": {},
   "outputs": [],
   "source": [
    "# parámetros\n",
    "\n",
    "k = 2\n",
    "#dist = 'jaccard'          # índice de similitud de Jaccard      D = 1 - Indice\n",
    "dist = 'manhattan'"
   ]
  },
  {
   "cell_type": "code",
   "execution_count": null,
   "metadata": {},
   "outputs": [],
   "source": [
    "# método = 'single'\n",
    "model_s = AgglomerativeClustering(n_clusters=k, metric=dist, linkage='single')\n",
    "model_s.fit(data)\n",
    "labels_s = model_s.labels_\n",
    "\n",
    "# método = 'complete'\n",
    "model_c = AgglomerativeClustering(n_clusters=k, metric=dist, linkage='complete')\n",
    "model_c.fit(data)\n",
    "labels_c = model_c.labels_\n",
    "\n",
    "# método = 'average'\n",
    "model_a = AgglomerativeClustering(n_clusters=k, metric=dist, linkage='average')\n",
    "model_a.fit(data)\n",
    "labels_a = model_a.labels_\n",
    "\n",
    "# método = 'ward'\n",
    "model_w = AgglomerativeClustering(n_clusters=k, metric='euclidean', linkage='ward')\n",
    "model_w.fit(data)\n",
    "labels_w = model_w.labels_"
   ]
  },
  {
   "cell_type": "code",
   "execution_count": null,
   "metadata": {},
   "outputs": [],
   "source": [
    "labels = [labels_s, labels_c, labels_a, labels_w]\n",
    "models = ['single', 'complete', 'average', 'ward']\n",
    "\n",
    "plt.figure(figsize=(16,4))\n",
    "for i in range(0,4):\n",
    "    plt.subplot(1,4,i+1)\n",
    "    plt.scatter(data[:,0], data[:,1], c=labels[i])\n",
    "    plt.title('method = {}'.format(models[i]))\n",
    "plt.show()"
   ]
  },
  {
   "cell_type": "code",
   "execution_count": null,
   "metadata": {},
   "outputs": [],
   "source": [
    "link = linkage(data, metric='euclidean', method='single', optimal_ordering=True)\n",
    "\n",
    "plt.figure(figsize=(6,4))\n",
    "D = dendrogram(link, color_threshold=.150)\n",
    "plt.show()"
   ]
  },
  {
   "cell_type": "code",
   "execution_count": null,
   "metadata": {},
   "outputs": [],
   "source": []
  },
  {
   "cell_type": "markdown",
   "metadata": {},
   "source": [
    "### Iris Dataset"
   ]
  },
  {
   "cell_type": "code",
   "execution_count": null,
   "metadata": {},
   "outputs": [],
   "source": [
    "data = load_iris()"
   ]
  },
  {
   "cell_type": "code",
   "execution_count": null,
   "metadata": {},
   "outputs": [],
   "source": [
    "X = data['data']\n",
    "y = data['target']"
   ]
  },
  {
   "cell_type": "code",
   "execution_count": null,
   "metadata": {},
   "outputs": [],
   "source": [
    "plt.figure()\n",
    "plt.scatter(X[:,2], X[:,3], c=y)\n",
    "plt.show()"
   ]
  },
  {
   "cell_type": "code",
   "execution_count": null,
   "metadata": {},
   "outputs": [],
   "source": [
    "# parámetros\n",
    "\n",
    "k = 3\n",
    "dist = 'euclidean'"
   ]
  },
  {
   "cell_type": "code",
   "execution_count": null,
   "metadata": {},
   "outputs": [],
   "source": [
    "# método = 'single'\n",
    "model_s = AgglomerativeClustering(n_clusters=k, metric=dist, linkage='single')\n",
    "model_s.fit(X)\n",
    "labels_s = model_s.labels_\n",
    "\n",
    "# método = 'complete'\n",
    "model_c = AgglomerativeClustering(n_clusters=k, metric=dist, linkage='complete')\n",
    "model_c.fit(X)\n",
    "labels_c = model_c.labels_\n",
    "\n",
    "# método = 'average'\n",
    "model_a = AgglomerativeClustering(n_clusters=k, metric=dist, linkage='average')\n",
    "model_a.fit(X)\n",
    "labels_a = model_a.labels_\n",
    "\n",
    "# método = 'ward'\n",
    "model_w = AgglomerativeClustering(n_clusters=k, metric=dist, linkage='ward')\n",
    "model_w.fit(X)\n",
    "labels_w = model_w.labels_"
   ]
  },
  {
   "cell_type": "code",
   "execution_count": null,
   "metadata": {},
   "outputs": [],
   "source": [
    "labels = [labels_s, labels_c, labels_a, labels_w]\n",
    "models = ['single', 'complete', 'average', 'ward']\n",
    "\n",
    "plt.figure(figsize=(16,4))\n",
    "for i in range(0,4):\n",
    "    plt.subplot(1,4,i+1)\n",
    "    plt.scatter(X[:,2], X[:,3], c=labels[i])\n",
    "    plt.title('method = {}'.format(models[i]))\n",
    "plt.show()"
   ]
  },
  {
   "cell_type": "code",
   "execution_count": null,
   "metadata": {},
   "outputs": [],
   "source": []
  },
  {
   "cell_type": "code",
   "execution_count": null,
   "metadata": {},
   "outputs": [],
   "source": []
  }
 ],
 "metadata": {
  "kernelspec": {
   "display_name": "Python 3 (ipykernel)",
   "language": "python",
   "name": "python3"
  },
  "language_info": {
   "codemirror_mode": {
    "name": "ipython",
    "version": 3
   },
   "file_extension": ".py",
   "mimetype": "text/x-python",
   "name": "python",
   "nbconvert_exporter": "python",
   "pygments_lexer": "ipython3",
   "version": "3.10.9"
  }
 },
 "nbformat": 4,
 "nbformat_minor": 4
}
