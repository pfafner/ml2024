{
 "cells": [
  {
   "cell_type": "markdown",
   "metadata": {},
   "source": [
    "## *Elements of Machine Learning* 2024\n",
    "### <font size=3 color='gray'>Alan Reyes-Figueroa</font>"
   ]
  },
  {
   "cell_type": "markdown",
   "metadata": {
    "tags": []
   },
   "source": [
    "Ejemplo tomado de la documentación de la librería *MiniSom*, https://github.com/JustGlowing/minisom.\n",
    "\n",
    "In this example we will see how to use MiniSom to draw some insights from the <a href=\"https://en.wikipedia.org/wiki/Democracy_Index\">Democracy Index data</a> from Wikipedia."
   ]
  },
  {
   "cell_type": "code",
   "execution_count": null,
   "metadata": {},
   "outputs": [],
   "source": [
    "import numpy as np\n",
    "import pandas as pd\n",
    "import seaborn as sns\n",
    "import matplotlib.pyplot as plt\n",
    "from matplotlib.patches import Patch\n",
    "%matplotlib inline\n",
    "\n",
    "from minisom import MiniSom\n",
    "from sklearn.preprocessing import minmax_scale, scale"
   ]
  },
  {
   "cell_type": "code",
   "execution_count": null,
   "metadata": {},
   "outputs": [],
   "source": [
    "df = sns.load_dataset('penguins') "
   ]
  },
  {
   "cell_type": "code",
   "execution_count": null,
   "metadata": {},
   "outputs": [],
   "source": [
    "df = df.dropna()"
   ]
  },
  {
   "cell_type": "code",
   "execution_count": null,
   "metadata": {},
   "outputs": [],
   "source": [
    "df.head()"
   ]
  },
  {
   "cell_type": "code",
   "execution_count": null,
   "metadata": {},
   "outputs": [],
   "source": [
    "df.species.value_counts()"
   ]
  },
  {
   "cell_type": "markdown",
   "metadata": {},
   "source": [
    "As we can see the dataset contains a set of of social metrics related to the democracy level for each country. The goal is to use these metrics as features for our SOM so that we can create a bidimensional space where each country is mapped according to their democracity level.\n",
    "\n",
    "Let's define a set of color for the categories in which the countries are classified and also a country codes for each country. These will become handy when we will visualize the results on the map."
   ]
  },
  {
   "cell_type": "code",
   "execution_count": null,
   "metadata": {},
   "outputs": [],
   "source": [
    "category_color = {'Adelie': 'darkgreen',\n",
    "                  'Gentoo': 'blue',\n",
    "                  'Chinstrap': 'red'}\n",
    "\n",
    "colors_dict = {c: category_color[dm] for c, dm in zip(df.index,\n",
    "                                                      df.species)}"
   ]
  },
  {
   "cell_type": "markdown",
   "metadata": {},
   "source": [
    "We are now ready 1) isolate our features, 2) scale the feature and train our SOM:"
   ]
  },
  {
   "cell_type": "code",
   "execution_count": null,
   "metadata": {},
   "outputs": [],
   "source": [
    "feature_names = ['bill_length_mm', 'bill_depth_mm', 'flipper_length_mm', 'body_mass_g']\n",
    "\n",
    "X = df[feature_names].values\n",
    "X = scale(X)\n",
    "\n",
    "size = 15\n",
    "som = MiniSom(size, size, len(X[0]),\n",
    "              neighborhood_function='gaussian', sigma=3.0,\n",
    "              random_seed=1)\n",
    "\n",
    "som.pca_weights_init(X)\n",
    "som.train_random(X, 1000, verbose=True)"
   ]
  },
  {
   "cell_type": "markdown",
   "metadata": {},
   "source": [
    "### Results"
   ]
  },
  {
   "cell_type": "code",
   "execution_count": null,
   "metadata": {},
   "outputs": [],
   "source": [
    "som.activation_response(X)"
   ]
  },
  {
   "cell_type": "code",
   "execution_count": null,
   "metadata": {},
   "outputs": [],
   "source": []
  },
  {
   "cell_type": "markdown",
   "metadata": {},
   "source": [
    "A social map of penguins\n",
    "----\n",
    "\n",
    "Here we will plot each country in a cell that represent the winning neuron on the SOM. The country codes will be used instead of the full names of the countries to make the map more readable. The name of the countries will be colored according to their democracy status."
   ]
  },
  {
   "cell_type": "code",
   "execution_count": null,
   "metadata": {},
   "outputs": [],
   "source": [
    "mapp = som.labels_map(X, df.index)\n",
    "    \n",
    "plt.figure(figsize=(14, 14))\n",
    "for p, idx in mapp.items():\n",
    "    idx = list(idx)\n",
    "    x = p[0] + .1\n",
    "    y = p[1] - .3\n",
    "    for i, c in enumerate(idx):\n",
    "        off_set = (i+1)/len(idx) - 0.05\n",
    "        plt.text(x, y+off_set, c, color=colors_dict[c], fontsize=10)\n",
    "plt.pcolor(som.distance_map().T, cmap='gray_r', alpha=.2)\n",
    "plt.xticks(np.arange(size+1))\n",
    "plt.yticks(np.arange(size+1))\n",
    "plt.grid()\n",
    "\n",
    "legend_elements = [Patch(facecolor=clr,\n",
    "                         edgecolor='w',\n",
    "                         label=l) for l, clr in category_color.items()]\n",
    "plt.legend(handles=legend_elements, loc='center left', bbox_to_anchor=(1, .95))\n",
    "plt.show()"
   ]
  },
  {
   "cell_type": "markdown",
   "metadata": {},
   "source": [
    "Features planes\n",
    "----\n",
    "\n",
    "Here we will create a map for each feature used that reflects the magnitude of the weights associated to it for each neuron."
   ]
  },
  {
   "cell_type": "code",
   "execution_count": null,
   "metadata": {},
   "outputs": [],
   "source": [
    "W = som.get_weights()\n",
    "plt.figure(figsize=(10, 10))\n",
    "for i, f in enumerate(feature_names):\n",
    "    plt.subplot(3, 3, i+1)\n",
    "    plt.title(f)\n",
    "    plt.pcolor(W[:,:,i].T, cmap=plt.cm.coolwarm)\n",
    "    plt.xticks(np.arange(size+1))\n",
    "    plt.yticks(np.arange(size+1))\n",
    "plt.tight_layout()\n",
    "plt.show()"
   ]
  },
  {
   "cell_type": "markdown",
   "metadata": {},
   "source": [
    "Most relevant feature plane\n",
    "----\n",
    "\n",
    "In this map we associate each neuron to the feature with the maximum weight. This segments our map in regions where specific features have high values."
   ]
  },
  {
   "cell_type": "code",
   "execution_count": null,
   "metadata": {},
   "outputs": [],
   "source": [
    "Z = np.zeros((size, size))\n",
    "plt.figure(figsize=(8, 8))\n",
    "for i in np.arange(som._weights.shape[0]):\n",
    "    for j in np.arange(som._weights.shape[1]):\n",
    "        feature = np.argmax(W[i, j , :])\n",
    "        plt.plot([j+.5], [i+.5], 'o', color='C'+str(feature),\n",
    "                 marker='s', markersize=24)\n",
    "\n",
    "legend_elements = [Patch(facecolor='C'+str(i),\n",
    "                         edgecolor='w',\n",
    "                         label=f) for i, f in enumerate(feature_names)]\n",
    "\n",
    "plt.legend(handles=legend_elements,\n",
    "           loc='center left',\n",
    "           bbox_to_anchor=(1, .95))\n",
    "        \n",
    "plt.xlim([0, size])\n",
    "plt.ylim([0, size])\n",
    "plt.show()"
   ]
  },
  {
   "cell_type": "code",
   "execution_count": null,
   "metadata": {},
   "outputs": [],
   "source": []
  },
  {
   "cell_type": "code",
   "execution_count": null,
   "metadata": {},
   "outputs": [],
   "source": []
  },
  {
   "cell_type": "code",
   "execution_count": null,
   "metadata": {},
   "outputs": [],
   "source": []
  }
 ],
 "metadata": {
  "kernelspec": {
   "display_name": "Python 3 (ipykernel)",
   "language": "python",
   "name": "python3"
  },
  "language_info": {
   "codemirror_mode": {
    "name": "ipython",
    "version": 3
   },
   "file_extension": ".py",
   "mimetype": "text/x-python",
   "name": "python",
   "nbconvert_exporter": "python",
   "pygments_lexer": "ipython3",
   "version": "3.10.9"
  }
 },
 "nbformat": 4,
 "nbformat_minor": 4
}
