{
 "cells": [
  {
   "cell_type": "markdown",
   "id": "078a0c0e-178e-4c93-8676-c64a5998c46e",
   "metadata": {},
   "source": [
    "## *Elements of Machine Learning* 2024\n",
    "### <font size=3 color='gray'>Alan Reyes-Figueroa</font>"
   ]
  },
  {
   "cell_type": "markdown",
   "id": "1966822f-6e74-412d-9314-800d3ed10112",
   "metadata": {},
   "source": [
    "## Descomposición SVD"
   ]
  },
  {
   "cell_type": "code",
   "execution_count": null,
   "id": "90127ef0-0cd3-4f44-8edc-608d1cb996d1",
   "metadata": {},
   "outputs": [],
   "source": [
    "import numpy as np\n",
    "import matplotlib.pyplot as plt"
   ]
  },
  {
   "cell_type": "code",
   "execution_count": null,
   "id": "28cfe2f7-0a2b-42c1-a081-aedf37f98dde",
   "metadata": {},
   "outputs": [],
   "source": [
    "A = np.array([[4, 6, 1], [5, -2, 3], [0, 1, 4]])"
   ]
  },
  {
   "cell_type": "code",
   "execution_count": null,
   "id": "1b83d709-d06d-40b1-8893-9d04235ad994",
   "metadata": {},
   "outputs": [],
   "source": [
    "print(A)"
   ]
  },
  {
   "cell_type": "code",
   "execution_count": null,
   "id": "de77270a-c606-47c6-b039-8196c1bfe2d2",
   "metadata": {},
   "outputs": [],
   "source": [
    "# determinante de A\n",
    "np.linalg.det(A)"
   ]
  },
  {
   "cell_type": "code",
   "execution_count": null,
   "id": "cf11fe5e-5ca7-4ae7-8071-6fd5f83490df",
   "metadata": {},
   "outputs": [],
   "source": [
    "l, v = np.linalg.eig(A)"
   ]
  },
  {
   "cell_type": "code",
   "execution_count": null,
   "id": "2d2ad87d-c62b-4282-8a98-9c22ed22a0b5",
   "metadata": {},
   "outputs": [],
   "source": [
    "print(l)"
   ]
  },
  {
   "cell_type": "code",
   "execution_count": null,
   "id": "686783d1-e4e6-4781-8e9c-14180ab78919",
   "metadata": {},
   "outputs": [],
   "source": [
    "print(v)"
   ]
  },
  {
   "cell_type": "code",
   "execution_count": null,
   "id": "aff71687-9f5f-46f6-a86f-7cf8bad5b99d",
   "metadata": {},
   "outputs": [],
   "source": []
  },
  {
   "cell_type": "markdown",
   "id": "2de03422-a549-40b6-a624-fbca2f443b68",
   "metadata": {},
   "source": [
    "## SVD"
   ]
  },
  {
   "cell_type": "code",
   "execution_count": null,
   "id": "a885ad53-d90a-4c32-a8eb-2a1bb2c22435",
   "metadata": {},
   "outputs": [],
   "source": [
    "U, S, V = np.linalg.svd(A)"
   ]
  },
  {
   "cell_type": "code",
   "execution_count": null,
   "id": "e4c9fe1d-8ff4-49bc-9ae9-fa59ccecb5e8",
   "metadata": {},
   "outputs": [],
   "source": [
    "print(U)"
   ]
  },
  {
   "cell_type": "code",
   "execution_count": null,
   "id": "9a65de40-11d6-48ad-b77b-2472278d0607",
   "metadata": {},
   "outputs": [],
   "source": [
    "print(S)"
   ]
  },
  {
   "cell_type": "code",
   "execution_count": null,
   "id": "ef7226c8-62b0-4c13-94c4-136d15a9fc8a",
   "metadata": {},
   "outputs": [],
   "source": [
    "print(np.diag(S))"
   ]
  },
  {
   "cell_type": "code",
   "execution_count": null,
   "id": "ad4dd40d-4bbf-489d-ae31-5512a6fb8fb4",
   "metadata": {},
   "outputs": [],
   "source": [
    "print(V)"
   ]
  },
  {
   "cell_type": "code",
   "execution_count": null,
   "id": "51af20df-183c-4743-a89b-7ae4271ed0aa",
   "metadata": {},
   "outputs": [],
   "source": []
  },
  {
   "cell_type": "code",
   "execution_count": null,
   "id": "794e31b3-314c-4a81-a4e0-55240f91288f",
   "metadata": {},
   "outputs": [],
   "source": [
    "USV = U @ np.diag(S) @ V"
   ]
  },
  {
   "cell_type": "code",
   "execution_count": null,
   "id": "016facbc-54a8-4ca6-a3f8-e258ac5e5a16",
   "metadata": {},
   "outputs": [],
   "source": [
    "print(USV)"
   ]
  },
  {
   "cell_type": "code",
   "execution_count": null,
   "id": "8698e869-ca06-49de-8f3b-216e5d7e734b",
   "metadata": {},
   "outputs": [],
   "source": [
    "A"
   ]
  },
  {
   "cell_type": "code",
   "execution_count": null,
   "id": "46bc5d7b-58e3-4b2d-a945-278ccd1af8ec",
   "metadata": {},
   "outputs": [],
   "source": []
  },
  {
   "cell_type": "markdown",
   "id": "3af913b6-3c52-44bd-ac00-88dfc8751c41",
   "metadata": {},
   "source": [
    "## Un ejemplo con matriz no cuadrada"
   ]
  },
  {
   "cell_type": "code",
   "execution_count": null,
   "id": "db743901-493e-4014-b201-8ef04e264c95",
   "metadata": {},
   "outputs": [],
   "source": [
    "B = np.array([[4, 6, 1], [5, -2, 3], [0, 1, 4], [3, 1, -1]])\n",
    "B.shape"
   ]
  },
  {
   "cell_type": "code",
   "execution_count": null,
   "id": "2b72aeac-1474-42a9-8509-533e363e502b",
   "metadata": {},
   "outputs": [],
   "source": [
    "print(B)"
   ]
  },
  {
   "cell_type": "code",
   "execution_count": null,
   "id": "5925fe92-e4b1-466a-9f27-01ab7381a2da",
   "metadata": {},
   "outputs": [],
   "source": [
    "U, S, V = np.linalg.svd(B)"
   ]
  },
  {
   "cell_type": "code",
   "execution_count": null,
   "id": "a848f992-363b-4a65-80a7-b1b962c01886",
   "metadata": {
    "tags": []
   },
   "outputs": [],
   "source": [
    "print(U)"
   ]
  },
  {
   "cell_type": "code",
   "execution_count": null,
   "id": "7b0c918e-5e66-4521-a313-a3b4de519bd3",
   "metadata": {},
   "outputs": [],
   "source": [
    "# para construir la matriz \\Sigma\n",
    "matS = np.zeros(B.shape)\n",
    "min_dimension = min(B.shape[0], B.shape[1])\n",
    "for i in range(0, min_dimension):\n",
    "    matS[i,i] = S[i]"
   ]
  },
  {
   "cell_type": "code",
   "execution_count": null,
   "id": "ef166cfd-b589-477b-a05d-ad4e8810729a",
   "metadata": {},
   "outputs": [],
   "source": [
    "print(S)"
   ]
  },
  {
   "cell_type": "code",
   "execution_count": null,
   "id": "c0a19e19-8384-4050-9b64-a16853ebc271",
   "metadata": {},
   "outputs": [],
   "source": [
    "print(matS)"
   ]
  },
  {
   "cell_type": "code",
   "execution_count": null,
   "id": "9357bbf2-68e9-48f9-b226-f52d6999be1e",
   "metadata": {},
   "outputs": [],
   "source": [
    "print(V)"
   ]
  },
  {
   "cell_type": "code",
   "execution_count": null,
   "id": "0133802f-f533-493c-a1e8-d3658079f616",
   "metadata": {},
   "outputs": [],
   "source": []
  },
  {
   "cell_type": "code",
   "execution_count": null,
   "id": "0f5a49b0-05c9-4de8-b9d5-afa4408e587b",
   "metadata": {},
   "outputs": [],
   "source": [
    "USV = U @ matS @ V"
   ]
  },
  {
   "cell_type": "code",
   "execution_count": null,
   "id": "55bee373-fbc4-49f6-912a-c4834ee74ccf",
   "metadata": {},
   "outputs": [],
   "source": [
    "print(USV)"
   ]
  },
  {
   "cell_type": "code",
   "execution_count": null,
   "id": "11ef7bf9-e4a6-4af6-8e3d-d09ba55f506d",
   "metadata": {},
   "outputs": [],
   "source": [
    "B"
   ]
  },
  {
   "cell_type": "code",
   "execution_count": null,
   "id": "f313bfd0-0f67-47ba-9c5f-5adccc3ec71f",
   "metadata": {},
   "outputs": [],
   "source": []
  },
  {
   "cell_type": "markdown",
   "id": "782d40e8-8e97-40e5-892e-93a9de52e97c",
   "metadata": {},
   "source": [
    "## Ejemplo con Datos Aleatorios"
   ]
  },
  {
   "cell_type": "code",
   "execution_count": null,
   "id": "7123aeeb-5c11-47d5-818d-596ef7381742",
   "metadata": {},
   "outputs": [],
   "source": [
    "# Random data\n",
    "X = -1 + 2*np.random.rand(100,2)\n",
    "\n",
    "# normalize\n",
    "for i in range(0, X.shape[0]):\n",
    "    u = X[i]\n",
    "    X[i] = u / np.linalg.norm(u)\n",
    "\n",
    "print(X.shape)"
   ]
  },
  {
   "cell_type": "code",
   "execution_count": null,
   "id": "bc3d3b61-62d0-4ae2-ab2d-421ef52a8f28",
   "metadata": {},
   "outputs": [],
   "source": [
    "plt.figure(figsize=(4,4))\n",
    "plt.plot(X[:,0], X[:,1], 'b.')\n",
    "plt.xlim([-5,5])\n",
    "plt.ylim([-5,5])\n",
    "plt.show()"
   ]
  },
  {
   "cell_type": "code",
   "execution_count": null,
   "id": "26824e93-7960-4d1e-930e-8f36134a7010",
   "metadata": {},
   "outputs": [],
   "source": []
  },
  {
   "cell_type": "code",
   "execution_count": null,
   "id": "bd947061-0531-4395-83b4-51c80a293584",
   "metadata": {},
   "outputs": [],
   "source": [
    "A = np.array([[5, -3], [-1, 2]])\n",
    "print(A)"
   ]
  },
  {
   "cell_type": "code",
   "execution_count": null,
   "id": "5c96c9e8-31c1-47ae-b74b-63b0d8f65d19",
   "metadata": {},
   "outputs": [],
   "source": [
    "U, S, V = np.linalg.svd(A)"
   ]
  },
  {
   "cell_type": "code",
   "execution_count": null,
   "id": "77539bfa-8016-4b98-9917-bafde8380cea",
   "metadata": {},
   "outputs": [],
   "source": [
    "print(U)"
   ]
  },
  {
   "cell_type": "code",
   "execution_count": null,
   "id": "6f67d22e-5f94-4a1e-bd5b-1e39f3df4b6a",
   "metadata": {},
   "outputs": [],
   "source": [
    "print(S)"
   ]
  },
  {
   "cell_type": "code",
   "execution_count": null,
   "id": "2764b668-df2f-4bc8-81de-bf2f5664154e",
   "metadata": {},
   "outputs": [],
   "source": [
    "print(V.T)"
   ]
  },
  {
   "cell_type": "code",
   "execution_count": null,
   "id": "0b297bd1-0308-461a-9fe9-f1f128f40612",
   "metadata": {},
   "outputs": [],
   "source": []
  },
  {
   "cell_type": "code",
   "execution_count": null,
   "id": "6c2e9b66-df9f-483d-9de0-8df8e55fb152",
   "metadata": {},
   "outputs": [],
   "source": [
    "Y = X @ A"
   ]
  },
  {
   "cell_type": "code",
   "execution_count": null,
   "id": "6ef5641e-f620-4587-b22d-fadebeeb5523",
   "metadata": {},
   "outputs": [],
   "source": [
    "plt.figure(figsize=(8,4))\n",
    "\n",
    "plt.subplot(1,2,1)\n",
    "plt.plot(X[:,0], X[:,1], 'b.')\n",
    "plt.xlim([-5,5])\n",
    "plt.ylim([-5,5])\n",
    "\n",
    "plt.subplot(1,2,2)\n",
    "# elipse\n",
    "plt.plot(Y[:,0], Y[:,1], 'b.')\n",
    "# direcciones principales\n",
    "plt.plot([0,S[0]*V[0,0]], [0, S[0]*V[0,1]], 'r->', lw=4)\n",
    "plt.plot([0,S[1]*V[1,0]], [0, S[1]*V[1,1]], 'g->', lw=4)\n",
    "plt.xlim([-6,6])\n",
    "plt.ylim([-6,6])\n",
    "plt.show()"
   ]
  },
  {
   "cell_type": "code",
   "execution_count": null,
   "id": "59606108-d825-42c5-9f37-d05f0afee6ad",
   "metadata": {},
   "outputs": [],
   "source": []
  },
  {
   "cell_type": "code",
   "execution_count": null,
   "id": "4a63f2e8-600d-43b0-aa9a-f89374ae2452",
   "metadata": {},
   "outputs": [],
   "source": []
  }
 ],
 "metadata": {
  "kernelspec": {
   "display_name": "Python 3 (ipykernel)",
   "language": "python",
   "name": "python3"
  },
  "language_info": {
   "codemirror_mode": {
    "name": "ipython",
    "version": 3
   },
   "file_extension": ".py",
   "mimetype": "text/x-python",
   "name": "python",
   "nbconvert_exporter": "python",
   "pygments_lexer": "ipython3",
   "version": "3.10.9"
  }
 },
 "nbformat": 4,
 "nbformat_minor": 5
}
