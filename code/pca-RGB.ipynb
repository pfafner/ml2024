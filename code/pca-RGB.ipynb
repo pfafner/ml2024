{
 "cells": [
  {
   "cell_type": "markdown",
   "metadata": {},
   "source": [
    "## *Elements of Machine Learning* 2024\n",
    "### <font size=3 color='gray'>Alan Reyes-Figueroa</font>"
   ]
  },
  {
   "cell_type": "markdown",
   "metadata": {},
   "source": [
    "## PCA con imágenes RGB"
   ]
  },
  {
   "cell_type": "code",
   "execution_count": null,
   "metadata": {},
   "outputs": [],
   "source": [
    "import numpy as np\n",
    "import matplotlib.pyplot as plt\n",
    "\n",
    "from skimage.color import rgb2gray\n",
    "#from PIL import Image"
   ]
  },
  {
   "cell_type": "code",
   "execution_count": null,
   "metadata": {},
   "outputs": [],
   "source": [
    "from warnings import filterwarnings\n",
    "filterwarnings('ignore')"
   ]
  },
  {
   "cell_type": "markdown",
   "metadata": {},
   "source": [
    "## 1. Imagen RGB"
   ]
  },
  {
   "cell_type": "code",
   "execution_count": null,
   "metadata": {},
   "outputs": [],
   "source": [
    "I = plt.imread('quetzal.png')\n",
    "I.shape"
   ]
  },
  {
   "cell_type": "code",
   "execution_count": null,
   "metadata": {},
   "outputs": [],
   "source": [
    "I = I[:,:,:3]"
   ]
  },
  {
   "cell_type": "code",
   "execution_count": null,
   "metadata": {},
   "outputs": [],
   "source": [
    "Igray = rgb2gray(I)\n",
    "Igray.shape"
   ]
  },
  {
   "cell_type": "code",
   "execution_count": null,
   "metadata": {},
   "outputs": [],
   "source": [
    "plt.figure(figsize=(10,10))\n",
    "plt.subplot(1,2,1)\n",
    "plt.imshow(I)\n",
    "plt.subplot(1,2,2)\n",
    "plt.imshow(Igray, cmap=plt.cm.gray)\n",
    "plt.show()"
   ]
  },
  {
   "cell_type": "code",
   "execution_count": null,
   "metadata": {},
   "outputs": [],
   "source": [
    "plt.figure(figsize=(10,10))\n",
    "plt.subplot(1,2,1)\n",
    "plt.imshow(I[80:160, 240:320, :])\n",
    "plt.subplot(1,2,2)\n",
    "plt.imshow(Igray[80:160, 240:320], cmap=plt.cm.gray)\n",
    "plt.show()"
   ]
  },
  {
   "cell_type": "code",
   "execution_count": null,
   "metadata": {},
   "outputs": [],
   "source": [
    "plt.figure(figsize=(10,10))\n",
    "plt.subplot(1,2,1)\n",
    "plt.imshow(I[100:120, 300:320, :])\n",
    "plt.subplot(1,2,2)\n",
    "plt.imshow(Igray[100:120, 300:320], cmap=plt.cm.gray)\n",
    "plt.show()"
   ]
  },
  {
   "cell_type": "code",
   "execution_count": null,
   "metadata": {},
   "outputs": [],
   "source": [
    "print((255*I[80:90, 300:310, 0]).astype(np.uint8))"
   ]
  },
  {
   "cell_type": "code",
   "execution_count": null,
   "metadata": {},
   "outputs": [],
   "source": [
    "print((255*I[80:90, 300:310, 1]).astype(np.uint8))"
   ]
  },
  {
   "cell_type": "code",
   "execution_count": null,
   "metadata": {},
   "outputs": [],
   "source": [
    "print((255*I[80:90, 300:310, 2]).astype(np.uint8))"
   ]
  },
  {
   "cell_type": "code",
   "execution_count": null,
   "metadata": {},
   "outputs": [],
   "source": [
    "plt.figure(figsize=(15,5))\n",
    "plt.subplot(1,3,1)\n",
    "plt.imshow(I[100:120, 300:320, 0], cmap=plt.cm.Reds_r)\n",
    "plt.subplot(1,3,2)\n",
    "plt.imshow(I[100:120, 300:320, 1], cmap=plt.cm.Greens_r)\n",
    "plt.subplot(1,3,3)\n",
    "plt.imshow(I[100:120, 300:320, 2], cmap=plt.cm.Blues_r)\n",
    "plt.show()"
   ]
  },
  {
   "cell_type": "code",
   "execution_count": null,
   "metadata": {},
   "outputs": [],
   "source": [
    "def imageRGB2vectorblocks(I, block_size):\n",
    "    '''\n",
    "    Función que convierte una imagen RGB a un stack de bloques vectorizados.\n",
    "    Inputs:   I = imagen grayscale de tamaño o shape (h, w, 3).\n",
    "              block_size = entero, que representa el tamaño de los bloques cuadrados,\n",
    "                           se trabajarán bloques de tamaño o shape (block_size, block_size, 3).\n",
    "    Outputs:  stack = stack de bloques, el formato del stack es un numpy array de tamaño (N, b),\n",
    "                      donde N es el número de bloques resultantes y b = block_size * block_size * 3.\n",
    "    '''\n",
    "    (h, w, ch) = I.shape[:3]\n",
    "    stack = []\n",
    "    \n",
    "    for i in range(0, h//block_size):\n",
    "        for j in range(0, w//block_size):\n",
    "            block = I[block_size*i:block_size*(i+1), block_size*j:block_size*(j+1), :].ravel()\n",
    "            stack.append(block)\n",
    "    stack = np.array(stack)\n",
    "    return stack"
   ]
  },
  {
   "cell_type": "code",
   "execution_count": null,
   "metadata": {},
   "outputs": [],
   "source": [
    "def vectorblocks2imageRGB(stack, Ishape, block_size):\n",
    "    '''\n",
    "    Función que convierte una stack de bloques vectorizados a una imagen en escala de grises.\n",
    "    Inputs:   stack  = stack de bloques, el formato del stack es un numpy array de tamaño (N, b),\n",
    "                       donde N es el número de bloques resultantes y b = block_size * block_size * 3.\n",
    "              Ishape = tamaño de la imagen esperada de salida (h, w, 3).\n",
    "              block_size = entero, que representa el tamaño de los bloques cuadrados,\n",
    "                           en el stack (block_size, block_size).\n",
    "    Outputs:  J = imagen reconstruida en escala de grises, como numpy array de tamaño (h, w).\n",
    "    '''\n",
    "\n",
    "    (h, w, ch) = Ishape\n",
    "    J = np.zeros((h, w, ch))\n",
    "    \n",
    "    for i in range(0, stack.shape[0]):\n",
    "        r = i * block_size // w\n",
    "        c = i - r*(w // block_size)\n",
    "        block = stack[i,:].reshape(block_size, block_size, ch)\n",
    "        J[block_size*r:block_size*r+block_size, block_size*c:block_size*c+block_size, :] = block\n",
    "    return J"
   ]
  },
  {
   "cell_type": "code",
   "execution_count": null,
   "metadata": {},
   "outputs": [],
   "source": [
    "sh = 10\n",
    "stack = imageRGB2vectorblocks(I, sh)\n",
    "stack.shape"
   ]
  },
  {
   "cell_type": "code",
   "execution_count": null,
   "metadata": {},
   "outputs": [],
   "source": [
    "# Centramos los datos\n",
    "mu = stack.mean(axis=0)\n",
    "std = stack.std(axis=0)\n",
    "\n",
    "Xc = (stack - mu) / std"
   ]
  },
  {
   "cell_type": "code",
   "execution_count": null,
   "metadata": {},
   "outputs": [],
   "source": [
    "U, S, V = np.linalg.svd(stack)\n",
    "print(U.shape, S.shape, V.shape)"
   ]
  },
  {
   "cell_type": "code",
   "execution_count": null,
   "metadata": {},
   "outputs": [],
   "source": [
    "S = np.diag(S)\n",
    "S.shape"
   ]
  },
  {
   "cell_type": "code",
   "execution_count": null,
   "metadata": {},
   "outputs": [],
   "source": [
    "# probando con los siguientes números de componentes principales\n",
    "ks = [1,2,3,4,5,10,15,20,30,40,50,60,70,80,90,100]\n",
    "\n",
    "Ishape = I.shape[:3]\n",
    "approx = []\n",
    "\n",
    "for k in ks:\n",
    "    appk = U[:,:k] @ S[:k,:k] @ V[:k,:] \n",
    "    J = vectorblocks2imageRGB(appk, Ishape, sh)\n",
    "    approx.append(J)"
   ]
  },
  {
   "cell_type": "code",
   "execution_count": null,
   "metadata": {},
   "outputs": [],
   "source": []
  },
  {
   "cell_type": "code",
   "execution_count": null,
   "metadata": {},
   "outputs": [],
   "source": [
    "J = vectorblocks2imageRGB(stack, Ishape, sh)\n",
    "J.shape"
   ]
  },
  {
   "cell_type": "code",
   "execution_count": null,
   "metadata": {},
   "outputs": [],
   "source": [
    "plt.figure(figsize=(5,5.5))\n",
    "plt.imshow(approx[0])\n",
    "plt.show()"
   ]
  },
  {
   "cell_type": "code",
   "execution_count": null,
   "metadata": {},
   "outputs": [],
   "source": [
    "plt.figure(figsize=(12,14))\n",
    "for i in range(0, 4):\n",
    "    for j in range(0, 4):\n",
    "        plt.subplot(4,4,4*i+j+1)\n",
    "        plt.imshow(approx[4*i+j])\n",
    "        plt.xlabel('Componentes: {}'.format(ks[4*i+j]))\n",
    "plt.show()"
   ]
  },
  {
   "cell_type": "code",
   "execution_count": null,
   "metadata": {},
   "outputs": [],
   "source": []
  },
  {
   "cell_type": "markdown",
   "metadata": {},
   "source": [
    "### Cálculo del Error"
   ]
  },
  {
   "cell_type": "code",
   "execution_count": null,
   "metadata": {},
   "outputs": [],
   "source": [
    "Cov = (stack.T) @ stack"
   ]
  },
  {
   "cell_type": "code",
   "execution_count": null,
   "metadata": {},
   "outputs": [],
   "source": [
    "eigs, _ = np.linalg.eig(Cov)"
   ]
  },
  {
   "cell_type": "code",
   "execution_count": null,
   "metadata": {},
   "outputs": [],
   "source": [
    "explained_variance = eigs / eigs.sum()"
   ]
  },
  {
   "cell_type": "code",
   "execution_count": null,
   "metadata": {},
   "outputs": [],
   "source": [
    "np.round(explained_variance[:20], 4)"
   ]
  },
  {
   "cell_type": "code",
   "execution_count": null,
   "metadata": {},
   "outputs": [],
   "source": [
    "explained_accumulative = explained_variance.cumsum()"
   ]
  },
  {
   "cell_type": "code",
   "execution_count": null,
   "metadata": {},
   "outputs": [],
   "source": [
    "k = 10\n",
    "plt.figure(figsize=(6,6))\n",
    "plt.bar(np.arange(1,1+k), explained_variance[:k])\n",
    "plt.plot(np.arange(1,1+k), explained_accumulative[:k], 'r-', lw=3)\n",
    "plt.ylim([0,1])\n",
    "plt.show()"
   ]
  },
  {
   "cell_type": "code",
   "execution_count": null,
   "metadata": {},
   "outputs": [],
   "source": []
  }
 ],
 "metadata": {
  "kernelspec": {
   "display_name": "Python 3 (ipykernel)",
   "language": "python",
   "name": "python3"
  },
  "language_info": {
   "codemirror_mode": {
    "name": "ipython",
    "version": 3
   },
   "file_extension": ".py",
   "mimetype": "text/x-python",
   "name": "python",
   "nbconvert_exporter": "python",
   "pygments_lexer": "ipython3",
   "version": "3.10.9"
  }
 },
 "nbformat": 4,
 "nbformat_minor": 4
}
