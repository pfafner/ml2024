{
 "cells": [
  {
   "cell_type": "markdown",
   "id": "57a90ea1-3aff-40af-bc8a-fdc01da029a7",
   "metadata": {},
   "source": [
    "## *Elements of Machine Learning* 2024\n",
    "### <font size=3 color='gray'>Alan Reyes-Figueroa</font>"
   ]
  },
  {
   "cell_type": "markdown",
   "id": "80bdb610-bcc3-41fe-8056-233ed822eaa3",
   "metadata": {},
   "source": [
    "## Escalamiento Multidimensional"
   ]
  },
  {
   "cell_type": "code",
   "execution_count": null,
   "id": "635f1e2c-f5c2-400d-b45b-fd4aa9bea6b6",
   "metadata": {},
   "outputs": [],
   "source": [
    "import numpy as np\n",
    "import matplotlib.pyplot as plt"
   ]
  },
  {
   "cell_type": "code",
   "execution_count": null,
   "id": "8d43a626-a3e6-42cd-a773-614686027176",
   "metadata": {},
   "outputs": [],
   "source": [
    "#D = np.array([[0.,16,47,72,77,79], [16,0,37,57,65,66], [47,37,0,40,30,35], [72,57,40,0,31,23], [77,65,30,31,0,10], [79,66,35,23,10,0]])\n",
    "#D"
   ]
  },
  {
   "cell_type": "code",
   "execution_count": null,
   "id": "5775b24e-2f51-4815-9de4-d6027023fcf3",
   "metadata": {},
   "outputs": [],
   "source": [
    "cities = ['Boston', 'NY', 'DC', 'Miami', 'Chicago', 'Seattle', 'San Francisco', 'LA', 'Denver']\n",
    "cities"
   ]
  },
  {
   "cell_type": "code",
   "execution_count": null,
   "id": "4921ddb3-d05d-4b36-b94b-aaab2ee39945",
   "metadata": {},
   "outputs": [],
   "source": [
    "D2 = np.array([[0., 206, 429, 1504, 963, 2976, 3095, 2979, 1949],\n",
    "               [206, 0, 233, 1308, 802, 2815, 2934, 2786, 1771],\n",
    "               [429, 233, 0, 1075, 671, 2684, 2799, 2631, 1616],\n",
    "               [1504, 1308, 1075, 0, 1329, 3273, 3053, 2687, 2037],\n",
    "               [963, 802, 671, 1329, 0, 2013, 2142, 2054, 996],\n",
    "               [2976, 2815, 2684, 3273, 2013, 0, 808, 1131, 1307],\n",
    "               [3095, 2934, 2799, 3053, 2142, 808, 0, 379, 1235],\n",
    "               [2979, 2786, 2631, 2687, 2054, 1131, 379, 0, 1059],\n",
    "               [1949, 1771, 1616, 2037, 996, 1307, 1235, 1059, 0]])"
   ]
  },
  {
   "cell_type": "code",
   "execution_count": null,
   "id": "2f6dee8e-de40-4f8f-8ad3-42734d1dc67c",
   "metadata": {},
   "outputs": [],
   "source": [
    "print(D2)"
   ]
  },
  {
   "cell_type": "code",
   "execution_count": null,
   "id": "83d018aa-46d3-41e3-b0cf-a2b595a652ff",
   "metadata": {},
   "outputs": [],
   "source": [
    "n = D2.shape[0]\n",
    "n"
   ]
  },
  {
   "cell_type": "code",
   "execution_count": null,
   "id": "21fb1e06-bd46-4d3c-b1c7-22cf15341143",
   "metadata": {},
   "outputs": [],
   "source": [
    "# Construyendo la matriz de proyeccion J\n",
    "\n",
    "J = np.eye(n) - (1./n)*np.ones((n,n))\n",
    "print(np.round(J,3))"
   ]
  },
  {
   "cell_type": "code",
   "execution_count": null,
   "id": "737a4be3-5928-4b95-8e16-6caf3a6068f0",
   "metadata": {},
   "outputs": [],
   "source": [
    "# Calculando la matriz de Gram\n",
    "G = -0.5* J @ D2 @ J"
   ]
  },
  {
   "cell_type": "code",
   "execution_count": null,
   "id": "45812461-1147-4d0f-b5dd-e7e847720705",
   "metadata": {},
   "outputs": [],
   "source": [
    "print(np.round(G,2))"
   ]
  },
  {
   "cell_type": "markdown",
   "id": "a7462eb9-2d95-42c5-ae16-537a81264b5e",
   "metadata": {},
   "source": [
    "## SVD"
   ]
  },
  {
   "cell_type": "code",
   "execution_count": null,
   "id": "646a98cf-13a8-4298-af01-0ba90c7ea3ec",
   "metadata": {},
   "outputs": [],
   "source": [
    "U, S, V = np.linalg.svd(G)"
   ]
  },
  {
   "cell_type": "code",
   "execution_count": null,
   "id": "2ed05d52-2957-4fa5-a0d6-bb2d118ee413",
   "metadata": {},
   "outputs": [],
   "source": [
    "print(np.round(U, 3))\n",
    "print('')\n",
    "print(np.round(S, 3))\n",
    "print('')\n",
    "print(np.round(V, 3))"
   ]
  },
  {
   "cell_type": "markdown",
   "id": "2164c9af-944f-46a7-9d8d-94ad0f7c0712",
   "metadata": {},
   "source": [
    "#### Proyección a dos componente principales"
   ]
  },
  {
   "cell_type": "code",
   "execution_count": null,
   "id": "252caf2b-df63-4080-9140-9912d0a46f78",
   "metadata": {},
   "outputs": [],
   "source": [
    "P = D2 @ V.T[:,:2]"
   ]
  },
  {
   "cell_type": "code",
   "execution_count": null,
   "id": "59e5ec93-9fa0-4d2d-81f0-a57af175c358",
   "metadata": {},
   "outputs": [],
   "source": [
    "P"
   ]
  },
  {
   "cell_type": "code",
   "execution_count": null,
   "id": "3a3ea943-23fa-4e9f-97f0-88935b7c4125",
   "metadata": {},
   "outputs": [],
   "source": [
    "plt.figure(figsize=(6,6))\n",
    "plt.plot(P[:,0], P[:,1], 'ko')\n",
    "for i in np.arange(0, P.shape[0]):\n",
    "    plt.annotate(cities[i], (P[i,0], P[i,1]))\n",
    "plt.show()"
   ]
  },
  {
   "cell_type": "code",
   "execution_count": null,
   "id": "6039bf8e-6f47-4e6e-824c-bf936639037e",
   "metadata": {},
   "outputs": [],
   "source": []
  },
  {
   "cell_type": "code",
   "execution_count": null,
   "id": "a5d6479f-60d4-4153-afc3-5ee8e9043c6f",
   "metadata": {},
   "outputs": [],
   "source": []
  }
 ],
 "metadata": {
  "kernelspec": {
   "display_name": "Python 3 (ipykernel)",
   "language": "python",
   "name": "python3"
  },
  "language_info": {
   "codemirror_mode": {
    "name": "ipython",
    "version": 3
   },
   "file_extension": ".py",
   "mimetype": "text/x-python",
   "name": "python",
   "nbconvert_exporter": "python",
   "pygments_lexer": "ipython3",
   "version": "3.10.9"
  }
 },
 "nbformat": 4,
 "nbformat_minor": 5
}
