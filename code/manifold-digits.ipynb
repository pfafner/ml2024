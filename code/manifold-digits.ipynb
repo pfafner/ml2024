{
 "cells": [
  {
   "cell_type": "markdown",
   "metadata": {},
   "source": [
    "## *Elements of Machine Learning* 2024\n",
    "### <font size=3 color='gray'>Alan Reyes-Figueroa</font>"
   ]
  },
  {
   "cell_type": "markdown",
   "metadata": {},
   "source": [
    "### *Manifold Learning*"
   ]
  },
  {
   "cell_type": "code",
   "execution_count": null,
   "metadata": {},
   "outputs": [],
   "source": [
    "import numpy as np\n",
    "import pandas as pd\n",
    "import matplotlib.pyplot as plt\n",
    "\n",
    "from sklearn.manifold import Isomap, LocallyLinearEmbedding, MDS, SpectralEmbedding, TSNE\n",
    "from sklearn.manifold import locally_linear_embedding\n",
    "from sklearn import datasets\n",
    "\n",
    "from sklearn.decomposition import PCA, KernelPCA\n",
    "\n",
    "from mpl_toolkits.mplot3d import Axes3D\n",
    "from matplotlib.ticker import NullFormatter\n",
    "\n",
    "from umap import UMAP"
   ]
  },
  {
   "cell_type": "code",
   "execution_count": null,
   "metadata": {},
   "outputs": [],
   "source": [
    "from warnings import filterwarnings\n",
    "filterwarnings('ignore')"
   ]
  },
  {
   "cell_type": "markdown",
   "metadata": {},
   "source": [
    "## Digits Dataset"
   ]
  },
  {
   "cell_type": "code",
   "execution_count": null,
   "metadata": {},
   "outputs": [],
   "source": [
    "digits = datasets.load_digits()"
   ]
  },
  {
   "cell_type": "code",
   "execution_count": null,
   "metadata": {},
   "outputs": [],
   "source": [
    "X = digits['data']\n",
    "y = digits['target']"
   ]
  },
  {
   "cell_type": "code",
   "execution_count": null,
   "metadata": {},
   "outputs": [],
   "source": [
    "print(X.shape, y.shape)"
   ]
  },
  {
   "cell_type": "code",
   "execution_count": null,
   "metadata": {},
   "outputs": [],
   "source": [
    "plt.figure(figsize=(10,14))\n",
    "for i in range(0, 20):\n",
    "    for j in range(0, 20):\n",
    "        plt.subplot(20,20,20*i+j+1)\n",
    "        plt.imshow(X[20*i+j].reshape(8,8), cmap='gray')\n",
    "        plt.xlabel(y[20*i+j])\n",
    "        plt.xticks([]), plt.yticks([])\n",
    "plt.show()"
   ]
  },
  {
   "cell_type": "markdown",
   "metadata": {},
   "source": [
    "### PCA"
   ]
  },
  {
   "cell_type": "code",
   "execution_count": null,
   "metadata": {},
   "outputs": [],
   "source": [
    "pcamodel = PCA(n_components=3)\n",
    "pca = pcamodel.fit_transform(X)"
   ]
  },
  {
   "cell_type": "code",
   "execution_count": null,
   "metadata": {},
   "outputs": [],
   "source": [
    "fig = plt.figure(figsize=(12,6))\n",
    "ax = fig.add_subplot(121)\n",
    "ax.scatter(pca[:, 0], pca[:, 1], c=y, cmap=plt.cm.jet)\n",
    "for j in np.arange(0, X.shape[0]//17):\n",
    "    i = 17*j\n",
    "    ax.annotate(y[i], xy=pca[i,:2], xytext=pca[i,:2])\n",
    "plt.axis('tight')\n",
    "plt.xticks([]), plt.yticks([])\n",
    "plt.title('Digits data')\n",
    "ax = fig.add_subplot(122, projection='3d')\n",
    "ax.scatter(pca[:, 0], pca[:, 1], pca[:, 2], c=y, cmap=plt.cm.jet)\n",
    "for j in np.arange(0, X.shape[0]//17):\n",
    "    i = 17*j\n",
    "    ax.text(pca[i,0], pca[i,1], pca[i,2], y[i])\n",
    "ax.set_title(\"Digits data\")\n",
    "plt.show()"
   ]
  },
  {
   "cell_type": "markdown",
   "metadata": {},
   "source": [
    "### Kernel PCA"
   ]
  },
  {
   "cell_type": "code",
   "execution_count": null,
   "metadata": {},
   "outputs": [],
   "source": [
    "kpcamodel = KernelPCA(n_components=3, kernel='rbf', gamma=100, \n",
    "                      max_iter=500, random_state=19)\n",
    "kpca = kpcamodel.fit_transform(X)"
   ]
  },
  {
   "cell_type": "code",
   "execution_count": null,
   "metadata": {},
   "outputs": [],
   "source": [
    "fig = plt.figure(figsize=(12,6))\n",
    "ax = fig.add_subplot(121)\n",
    "ax.scatter(kpca[:, 0], kpca[:, 1], c=y, cmap=plt.cm.jet)\n",
    "for j in np.arange(0, X.shape[0]//17):\n",
    "    i = 17*j\n",
    "    ax.annotate(y[i], xy=kpca[i,:2], xytext=kpca[i,:2])\n",
    "plt.axis('tight')\n",
    "plt.xticks([]), plt.yticks([])\n",
    "plt.title('Digits data')\n",
    "ax = fig.add_subplot(122, projection='3d')\n",
    "ax.scatter(kpca[:, 0], kpca[:, 1], kpca[:, 2], c=y, cmap=plt.cm.jet)\n",
    "for j in np.arange(0, X.shape[0]//17):\n",
    "    i = 17*j\n",
    "    ax.text(kpca[i,0], kpca[i,1], kpca[i,2], y[i])\n",
    "ax.set_title(\"Digits data\")\n",
    "plt.show()"
   ]
  },
  {
   "cell_type": "code",
   "execution_count": null,
   "metadata": {},
   "outputs": [],
   "source": [
    "#fig.savefig('kpca.pdf', bbox_inches='tight')"
   ]
  },
  {
   "cell_type": "code",
   "execution_count": null,
   "metadata": {},
   "outputs": [],
   "source": []
  },
  {
   "cell_type": "markdown",
   "metadata": {},
   "source": [
    "## Manifold Learning"
   ]
  },
  {
   "cell_type": "code",
   "execution_count": null,
   "metadata": {},
   "outputs": [],
   "source": [
    "print(\"Computing LLE embedding\")\n",
    "X_r, err = locally_linear_embedding(X, n_neighbors=300, n_components=3)\n",
    "print(\"Done. Reconstruction error: %g\" % err)"
   ]
  },
  {
   "cell_type": "code",
   "execution_count": null,
   "metadata": {},
   "outputs": [],
   "source": [
    "fig = plt.figure(figsize=(12,6))\n",
    "ax = fig.add_subplot(121)\n",
    "ax.scatter(X_r[:, 0], X_r[:, 1], c=y, cmap=plt.cm.jet)\n",
    "for j in np.arange(0, X.shape[0]//17):\n",
    "    i = 17*j\n",
    "    ax.annotate(y[i], xy=X_r[i,:2], xytext=X_r[i,:2])\n",
    "plt.axis('tight')\n",
    "plt.xticks([]), plt.yticks([])\n",
    "plt.title('Digits data')\n",
    "ax = fig.add_subplot(122, projection='3d')\n",
    "ax.scatter(X_r[:, 0], X_r[:, 1], X_r[:, 2], c=y, cmap=plt.cm.jet)\n",
    "for j in np.arange(0, X.shape[0]//17):\n",
    "    i = 17*j\n",
    "    ax.text(X_r[i,0], X_r[i,1], X_r[i,2], y[i])\n",
    "ax.set_title(\"Digits data\")\n",
    "plt.show()"
   ]
  },
  {
   "cell_type": "markdown",
   "metadata": {},
   "source": [
    "### LLE"
   ]
  },
  {
   "cell_type": "code",
   "execution_count": null,
   "metadata": {},
   "outputs": [],
   "source": [
    "LLE = LocallyLinearEmbedding(n_neighbors=250, n_components=3, eigen_solver='auto')\n",
    "lle = LLE.fit_transform(X)"
   ]
  },
  {
   "cell_type": "code",
   "execution_count": null,
   "metadata": {},
   "outputs": [],
   "source": [
    "fig = plt.figure(figsize=(12,6))\n",
    "ax = fig.add_subplot(121)\n",
    "ax.scatter(lle[:, 0], lle[:, 1], c=y, cmap=plt.cm.jet)\n",
    "for j in np.arange(0, X.shape[0]//17):\n",
    "    i = 17*j\n",
    "    ax.annotate(y[i], xy=lle[i,:2], xytext=lle[i,:2])\n",
    "plt.axis('tight')\n",
    "plt.xticks([]), plt.yticks([])\n",
    "plt.title('Digits data')\n",
    "ax = fig.add_subplot(122, projection='3d')\n",
    "ax.scatter(lle[:, 0], lle[:, 1], lle[:, 2], c=y, cmap=plt.cm.jet)\n",
    "for j in np.arange(0, X.shape[0]//17):\n",
    "    i = 17*j\n",
    "    ax.text(lle[i,0], lle[i,1], lle[i,2], y[i])\n",
    "ax.set_title(\"Digits data\")\n",
    "plt.show()"
   ]
  },
  {
   "cell_type": "markdown",
   "metadata": {},
   "source": [
    "### ISOMap"
   ]
  },
  {
   "cell_type": "code",
   "execution_count": null,
   "metadata": {},
   "outputs": [],
   "source": [
    "ISO = Isomap(n_neighbors=250, n_components=3, eigen_solver='auto')\n",
    "iso = ISO.fit_transform(X)"
   ]
  },
  {
   "cell_type": "code",
   "execution_count": null,
   "metadata": {},
   "outputs": [],
   "source": [
    "fig = plt.figure(figsize=(12,6))\n",
    "ax = fig.add_subplot(121)\n",
    "ax.scatter(iso[:, 0], iso[:, 1], c=y, cmap=plt.cm.jet)\n",
    "for j in np.arange(0, X.shape[0]//17):\n",
    "    i = 17*j\n",
    "    ax.annotate(y[i], xy=iso[i,:2], xytext=iso[i,:2])\n",
    "plt.axis('tight')\n",
    "plt.xticks([]), plt.yticks([])\n",
    "plt.title('Digits data')\n",
    "ax = fig.add_subplot(122, projection='3d')\n",
    "ax.scatter(iso[:, 0], iso[:, 1], iso[:, 2], c=y, cmap=plt.cm.jet)\n",
    "for j in np.arange(0, X.shape[0]//17):\n",
    "    i = 17*j\n",
    "    ax.text(iso[i,0], iso[i,1], iso[i,2], y[i])\n",
    "ax.set_title(\"Digits data\")\n",
    "plt.show()"
   ]
  },
  {
   "cell_type": "markdown",
   "metadata": {},
   "source": [
    "### UMap"
   ]
  },
  {
   "cell_type": "code",
   "execution_count": null,
   "metadata": {},
   "outputs": [],
   "source": [
    "Uni = UMAP(dens_lambda=0.1, random_state=2023)\n",
    "uma = Uni.fit_transform(X)"
   ]
  },
  {
   "cell_type": "code",
   "execution_count": null,
   "metadata": {},
   "outputs": [],
   "source": [
    "fig = plt.figure(figsize=(6,6))\n",
    "ax = fig.add_subplot(111)\n",
    "ax.scatter(uma[:, 0], uma[:, 1], c=y, cmap=plt.cm.jet)\n",
    "for j in np.arange(0, X.shape[0]//17):\n",
    "    i = 17*j\n",
    "    ax.annotate(y[i], xy=uma[i,:2], xytext=uma[i,:2])\n",
    "plt.axis('tight')\n",
    "plt.xticks([]), plt.yticks([])\n",
    "plt.title('Digits data')\n",
    "plt.show()"
   ]
  },
  {
   "cell_type": "markdown",
   "metadata": {},
   "source": [
    "### t-SNE"
   ]
  },
  {
   "cell_type": "code",
   "execution_count": null,
   "metadata": {},
   "outputs": [],
   "source": [
    "# Probar con preplexity = 0.1, 10, 100, 1000\n",
    "tSNE = TSNE(n_components=3, perplexity=1, init='pca', random_state=0)\n",
    "tsne = tSNE.fit_transform(X)"
   ]
  },
  {
   "cell_type": "code",
   "execution_count": null,
   "metadata": {},
   "outputs": [],
   "source": [
    "fig = plt.figure(figsize=(12,6))\n",
    "ax = fig.add_subplot(121)\n",
    "ax.scatter(tsne[:, 0], tsne[:, 1], c=y, cmap=plt.cm.jet)\n",
    "for j in np.arange(0, X.shape[0]//17):\n",
    "    i = 17*j\n",
    "    ax.annotate(y[i], xy=tsne[i,:2], xytext=tsne[i,:2])\n",
    "plt.axis('tight')\n",
    "plt.xticks([]), plt.yticks([])\n",
    "plt.title('Digits data')\n",
    "ax = fig.add_subplot(122, projection='3d')\n",
    "ax.scatter(tsne[:, 0], tsne[:, 1], tsne[:, 2], c=y, cmap=plt.cm.jet)\n",
    "for j in np.arange(0, X.shape[0]//17):\n",
    "    i = 17*j\n",
    "    ax.text(tsne[i,0], tsne[i,1], tsne[i,2], y[i])\n",
    "ax.set_title(\"Digits data\")\n",
    "plt.show()"
   ]
  },
  {
   "cell_type": "markdown",
   "metadata": {},
   "source": [
    "### Spectral Embedding"
   ]
  },
  {
   "cell_type": "code",
   "execution_count": null,
   "metadata": {},
   "outputs": [],
   "source": [
    "SE = SpectralEmbedding(n_neighbors=500, n_components=3, eigen_solver='arpack')\n",
    "spe = SE.fit_transform(X)"
   ]
  },
  {
   "cell_type": "code",
   "execution_count": null,
   "metadata": {},
   "outputs": [],
   "source": [
    "fig = plt.figure(figsize=(12,6))\n",
    "ax = fig.add_subplot(121)\n",
    "ax.scatter(spe[:, 0], spe[:, 1], c=y, cmap=plt.cm.jet)\n",
    "for j in np.arange(0, X.shape[0]//17):\n",
    "    i = 17*j\n",
    "    ax.annotate(y[i], xy=spe[i,:2], xytext=spe[i,:2])\n",
    "plt.axis('tight')\n",
    "plt.xticks([]), plt.yticks([])\n",
    "plt.title('Digits data')\n",
    "ax = fig.add_subplot(122, projection='3d')\n",
    "ax.scatter(spe[:, 0], spe[:, 1], spe[:, 2], c=y, cmap=plt.cm.jet)\n",
    "for j in np.arange(0, X.shape[0]//17):\n",
    "    i = 17*j\n",
    "    ax.text(spe[i,0], spe[i,1], spe[i,2], y[i])\n",
    "ax.set_title(\"Digits data\")\n",
    "plt.show()"
   ]
  },
  {
   "cell_type": "markdown",
   "metadata": {},
   "source": [
    "### MDS"
   ]
  },
  {
   "cell_type": "code",
   "execution_count": null,
   "metadata": {},
   "outputs": [],
   "source": [
    "Mult = MDS(n_components=3, max_iter=100, n_init=1)\n",
    "mds = Mult.fit_transform(X)"
   ]
  },
  {
   "cell_type": "code",
   "execution_count": null,
   "metadata": {},
   "outputs": [],
   "source": [
    "fig = plt.figure(figsize=(12,6))\n",
    "ax = fig.add_subplot(121)\n",
    "ax.scatter(mds[:, 0], mds[:, 1], c=y, cmap=plt.cm.jet)\n",
    "for j in np.arange(0, X.shape[0]//17):\n",
    "    i = 17*j\n",
    "    ax.annotate(y[i], xy=mds[i,:2], xytext=mds[i,:2])\n",
    "plt.axis('tight')\n",
    "plt.xticks([]), plt.yticks([])\n",
    "plt.title('Digits data')\n",
    "ax = fig.add_subplot(122, projection='3d')\n",
    "ax.scatter(mds[:, 0], mds[:, 1], mds[:, 2], c=y, cmap=plt.cm.jet)\n",
    "for j in np.arange(0, X.shape[0]//17):\n",
    "    i = 17*j\n",
    "    ax.text(mds[i,0], mds[i,1], mds[i,2], y[i])\n",
    "ax.set_title(\"Digits data\")\n",
    "plt.show()"
   ]
  },
  {
   "cell_type": "markdown",
   "metadata": {},
   "source": [
    "### Modified LLE"
   ]
  },
  {
   "cell_type": "code",
   "execution_count": null,
   "metadata": {},
   "outputs": [],
   "source": [
    "LLE = LocallyLinearEmbedding(n_neighbors=60, n_components=3, method='modified', eigen_solver='auto')\n",
    "lle = LLE.fit_transform(X)"
   ]
  },
  {
   "cell_type": "code",
   "execution_count": null,
   "metadata": {},
   "outputs": [],
   "source": [
    "fig = plt.figure(figsize=(12,6))\n",
    "ax = fig.add_subplot(121)\n",
    "ax.scatter(lle[:, 0], lle[:, 1], c=y, cmap=plt.cm.jet)\n",
    "for j in np.arange(0, X.shape[0]//17):\n",
    "    i = 17*j\n",
    "    ax.annotate(y[i], xy=lle[i,:2], xytext=lle[i,:2])\n",
    "plt.axis('tight')\n",
    "plt.xticks([]), plt.yticks([])\n",
    "plt.title('Digits data')\n",
    "ax = fig.add_subplot(122, projection='3d')\n",
    "ax.scatter(lle[:, 0], lle[:, 1], lle[:, 2], c=y, cmap=plt.cm.jet)\n",
    "for j in np.arange(0, X.shape[0]//17):\n",
    "    i = 17*j\n",
    "    ax.text(lle[i,0], lle[i,1], lle[i,2], y[i])\n",
    "ax.set_title(\"Digits data\")\n",
    "plt.show()"
   ]
  },
  {
   "cell_type": "markdown",
   "metadata": {},
   "source": [
    "### Hessian LLE"
   ]
  },
  {
   "cell_type": "code",
   "execution_count": null,
   "metadata": {},
   "outputs": [],
   "source": [
    "LLE = LocallyLinearEmbedding(n_neighbors=50, n_components=3, method='hessian', eigen_solver='auto')\n",
    "lle = LLE.fit_transform(X)"
   ]
  },
  {
   "cell_type": "code",
   "execution_count": null,
   "metadata": {},
   "outputs": [],
   "source": [
    "fig = plt.figure(figsize=(12,6))\n",
    "ax = fig.add_subplot(121)\n",
    "ax.scatter(lle[:, 0], lle[:, 1], c=y, cmap=plt.cm.jet)\n",
    "for j in np.arange(0, X.shape[0]//17):\n",
    "    i = 17*j\n",
    "    ax.annotate(y[i], xy=lle[i,:2], xytext=lle[i,:2])\n",
    "plt.axis('tight')\n",
    "plt.xticks([]), plt.yticks([])\n",
    "plt.title('Digits data')\n",
    "ax = fig.add_subplot(122, projection='3d')\n",
    "ax.scatter(lle[:, 0], lle[:, 1], lle[:, 2], c=y, cmap=plt.cm.jet)\n",
    "for j in np.arange(0, X.shape[0]//17):\n",
    "    i = 17*j\n",
    "    ax.text(lle[i,0], lle[i,1], lle[i,2], y[i])\n",
    "ax.set_title(\"Digits data\")\n",
    "plt.show()"
   ]
  },
  {
   "cell_type": "markdown",
   "metadata": {},
   "source": [
    "### LTSA LLE"
   ]
  },
  {
   "cell_type": "code",
   "execution_count": null,
   "metadata": {},
   "outputs": [],
   "source": [
    "LLE = LocallyLinearEmbedding(n_neighbors=50, n_components=3, method='ltsa', eigen_solver='auto')\n",
    "lle = LLE.fit_transform(X)"
   ]
  },
  {
   "cell_type": "code",
   "execution_count": null,
   "metadata": {},
   "outputs": [],
   "source": [
    "fig = plt.figure(figsize=(12,6))\n",
    "ax = fig.add_subplot(121)\n",
    "ax.scatter(lle[:, 0], lle[:, 1], c=y, cmap=plt.cm.jet)\n",
    "for j in np.arange(0, X.shape[0]//17):\n",
    "    i = 17*j\n",
    "    ax.annotate(y[i], xy=lle[i,:2], xytext=lle[i,:2])\n",
    "plt.axis('tight')\n",
    "plt.xticks([]), plt.yticks([])\n",
    "plt.title('Digits data')\n",
    "ax = fig.add_subplot(122, projection='3d')\n",
    "ax.scatter(lle[:, 0], lle[:, 1], lle[:, 2], c=y, cmap=plt.cm.jet)\n",
    "for j in np.arange(0, X.shape[0]//17):\n",
    "    i = 17*j\n",
    "    ax.text(lle[i,0], lle[i,1], lle[i,2], y[i])\n",
    "ax.set_title(\"Digits data\")\n",
    "plt.show()"
   ]
  },
  {
   "cell_type": "code",
   "execution_count": null,
   "metadata": {},
   "outputs": [],
   "source": []
  },
  {
   "cell_type": "code",
   "execution_count": null,
   "metadata": {},
   "outputs": [],
   "source": []
  }
 ],
 "metadata": {
  "kernelspec": {
   "display_name": "Python 3 (ipykernel)",
   "language": "python",
   "name": "python3"
  },
  "language_info": {
   "codemirror_mode": {
    "name": "ipython",
    "version": 3
   },
   "file_extension": ".py",
   "mimetype": "text/x-python",
   "name": "python",
   "nbconvert_exporter": "python",
   "pygments_lexer": "ipython3",
   "version": "3.10.9"
  }
 },
 "nbformat": 4,
 "nbformat_minor": 4
}
