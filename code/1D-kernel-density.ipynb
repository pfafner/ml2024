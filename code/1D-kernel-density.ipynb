{
 "cells": [
  {
   "cell_type": "markdown",
   "metadata": {},
   "source": [
    "# **Elements of Machine Learning 2024** <font size=4 color='gray'>Alan Reyes-Figueroa</font>\n",
    "#### <font color='gray'>Kernel Density Estimator (KDE)</font>"
   ]
  },
  {
   "cell_type": "code",
   "execution_count": null,
   "metadata": {},
   "outputs": [],
   "source": [
    "import numpy as np\n",
    "import matplotlib.pyplot as plt\n",
    "import seaborn as sns"
   ]
  },
  {
   "cell_type": "code",
   "execution_count": null,
   "metadata": {},
   "outputs": [],
   "source": [
    "def relu(x):\n",
    "    return x*(x>0)"
   ]
  },
  {
   "cell_type": "code",
   "execution_count": null,
   "metadata": {},
   "outputs": [],
   "source": [
    "def basef(x, x0, h=1.0, kernel='tophat'):\n",
    "    if (kernel == 'tophat'):\n",
    "        f = (np.abs(x-x0) < h).astype(type(x[0]))\n",
    "    elif (kernel == 'gaussian'):\n",
    "        f = np.exp(-(x-x0)**2/ (2.*h**2))\n",
    "    elif (kernel == 'laplacian'):\n",
    "        f = np.exp(-np.abs(x-x0)/h)\n",
    "    elif (kernel == 'linear'):\n",
    "        f = relu(1. - np.abs((x-x0)/h))\n",
    "    elif (kernel == 'cosine'):\n",
    "        f = (np.abs(x-x0)<h)*np.cos((x-x0)*np.pi/(2.*h))\n",
    "    elif (kernel == 'epanechnikov'):\n",
    "        f = relu(1. - (x-x0)**2/(h**2))\n",
    "    else: \n",
    "        f = 0.*x\n",
    "    return f"
   ]
  },
  {
   "cell_type": "code",
   "execution_count": null,
   "metadata": {},
   "outputs": [],
   "source": [
    "x = np.linspace(-10, 10., 201)\n",
    "kernels = ['tophat', 'linear', 'gaussian', 'laplacian', 'cosine', 'epanechnikov']\n",
    "x0 = 0.\n",
    "h = 5.\n",
    "\n",
    "plt.figure(figsize=(12,6))\n",
    "for i in range(0, 6):\n",
    "    plt.subplot(2,3,i+1)\n",
    "    y = basef(x, x0, h=h, kernel=kernels[i])\n",
    "    plt.plot(x, y)\n",
    "    plt.title(kernels[i])\n",
    "plt.show()"
   ]
  },
  {
   "cell_type": "markdown",
   "metadata": {},
   "source": [
    "## Random data"
   ]
  },
  {
   "cell_type": "code",
   "execution_count": null,
   "metadata": {},
   "outputs": [],
   "source": [
    "data = np.random.normal(0., 1., (100,)) + 0.2*np.random.normal(7., 5., (100,))\n",
    "data.shape"
   ]
  },
  {
   "cell_type": "code",
   "execution_count": null,
   "metadata": {},
   "outputs": [],
   "source": [
    "np.round(data, 3)[:25]"
   ]
  },
  {
   "cell_type": "code",
   "execution_count": null,
   "metadata": {},
   "outputs": [],
   "source": [
    "def density(x, n=100, h=1., kernel='tophat'):\n",
    "    std = x.std()\n",
    "    minn = x.min() - 2.*std\n",
    "    maxx = x.max() + 2.*std\n",
    "    t = np.linspace(minn, maxx, n+1)\n",
    "    dens = np.zeros(t.shape)\n",
    "    for i in range(0, x.shape[0]):\n",
    "        dens = dens + basef(t, x0=x[i], h=h, kernel=kernel)\n",
    "    dens = dens/x.shape[0]\n",
    "    return t, dens"
   ]
  },
  {
   "cell_type": "code",
   "execution_count": null,
   "metadata": {},
   "outputs": [],
   "source": [
    "n = data.shape[0]\n",
    "bns = int(np.ceil(np.log2(n))) + 1\n",
    "print(bns)\n",
    "plt.figure(figsize=(4,4))\n",
    "plt.hist(data, bins=bns)\n",
    "plt.show()"
   ]
  },
  {
   "cell_type": "code",
   "execution_count": null,
   "metadata": {},
   "outputs": [],
   "source": [
    "h = [0.5, 0.7, 0.9]\n",
    "\n",
    "t1, d1 = density(data, n=200, h=h[0], kernel='cosine')\n",
    "t2, d2 = density(data, n=200, h=h[1], kernel='cosine')\n",
    "t3, d3 = density(data, n=200, h=h[2], kernel='cosine')"
   ]
  },
  {
   "cell_type": "code",
   "execution_count": null,
   "metadata": {},
   "outputs": [],
   "source": [
    "plt.figure(figsize=(12,4))\n",
    "plt.subplot(1,3,1)\n",
    "plt.plot(t1, d1)\n",
    "plt.title('h = {}'.format(h[0]))\n",
    "plt.subplot(1,3,2)\n",
    "plt.plot(t2, d2)\n",
    "plt.title('h = {}'.format(h[1]))\n",
    "plt.subplot(1,3,3)\n",
    "plt.plot(t3, d3)\n",
    "plt.title('h = {}'.format(h[2]))\n",
    "plt.show"
   ]
  },
  {
   "cell_type": "code",
   "execution_count": null,
   "metadata": {},
   "outputs": [],
   "source": [
    "t, d = density(data, n=200, h=0.1, kernel='tophat')"
   ]
  },
  {
   "cell_type": "code",
   "execution_count": null,
   "metadata": {},
   "outputs": [],
   "source": []
  },
  {
   "cell_type": "code",
   "execution_count": null,
   "metadata": {},
   "outputs": [],
   "source": [
    "kernels = ['tophat', 'linear', 'gaussian', 'laplacian', 'cosine', 'epanechnikov']\n",
    "n = 100\n",
    "h = 1.\n",
    "\n",
    "plt.figure(figsize=(8,6))\n",
    "for i in range(0, 6):\n",
    "    plt.subplot(2,3,i+1)\n",
    "    t, d = density(data, n=n, h=h, kernel=kernels[i])\n",
    "    plt.plot(t, d)\n",
    "    plt.title(kernels[i])\n",
    "plt.show()"
   ]
  },
  {
   "cell_type": "markdown",
   "metadata": {},
   "source": [
    "## Scikit-learn"
   ]
  },
  {
   "cell_type": "code",
   "execution_count": null,
   "metadata": {},
   "outputs": [],
   "source": [
    "from sklearn.neighbors import KernelDensity\n",
    "from scipy.stats import norm"
   ]
  },
  {
   "cell_type": "code",
   "execution_count": null,
   "metadata": {},
   "outputs": [],
   "source": [
    "# Plot a 1D density example\n",
    "N = 500\n",
    "np.random.seed(1)\n",
    "X = np.concatenate((np.random.normal(0, 1, int(0.3 * N)),\n",
    "                    np.random.normal(5, 1, int(0.7 * N))))[:, np.newaxis]"
   ]
  },
  {
   "cell_type": "code",
   "execution_count": null,
   "metadata": {},
   "outputs": [],
   "source": [
    "X.shape"
   ]
  },
  {
   "cell_type": "code",
   "execution_count": null,
   "metadata": {},
   "outputs": [],
   "source": [
    "X_plot = np.linspace(-5, 10, 1000)[:, np.newaxis]"
   ]
  },
  {
   "cell_type": "code",
   "execution_count": null,
   "metadata": {},
   "outputs": [],
   "source": [
    "true_dens = (0.3 * norm(0, 1).pdf(X_plot[:, 0])\n",
    "             + 0.7 * norm(5, 1).pdf(X_plot[:, 0]))"
   ]
  },
  {
   "cell_type": "code",
   "execution_count": null,
   "metadata": {},
   "outputs": [],
   "source": []
  },
  {
   "cell_type": "code",
   "execution_count": null,
   "metadata": {},
   "outputs": [],
   "source": [
    "fig, ax = plt.subplots()\n",
    "ax.fill(X_plot[:, 0], true_dens, fc='black', alpha=0.2,\n",
    "        label='input distribution')\n",
    "colors = ['navy', 'cornflowerblue', 'darkorange']\n",
    "kernels = ['gaussian', 'tophat', 'epanechnikov']\n",
    "lw = 2\n",
    "\n",
    "for color, kernel in zip(colors, kernels):\n",
    "    kde = KernelDensity(kernel=kernel, bandwidth=0.5).fit(X)\n",
    "    log_dens = kde.score_samples(X_plot)\n",
    "    ax.plot(X_plot[:, 0], np.exp(log_dens), color=color, lw=lw, linestyle='-', label=\"kernel = '{0}'\".format(kernel))\n",
    "\n",
    "ax.text(6, 0.38, \"N={0} points\".format(N))\n",
    "\n",
    "ax.legend(loc='upper left')\n",
    "ax.plot(X[:, 0], -0.005 - 0.01 * np.random.random(X.shape[0]), '+k')\n",
    "\n",
    "ax.set_xlim(-4, 9)\n",
    "ax.set_ylim(-0.02, 0.4)\n",
    "plt.show()"
   ]
  },
  {
   "cell_type": "code",
   "execution_count": null,
   "metadata": {},
   "outputs": [],
   "source": []
  },
  {
   "cell_type": "code",
   "execution_count": null,
   "metadata": {},
   "outputs": [],
   "source": [
    "import seaborn as sns"
   ]
  },
  {
   "cell_type": "code",
   "execution_count": null,
   "metadata": {},
   "outputs": [],
   "source": [
    "plt.figure()\n",
    "sns.displot(X, bins=51, kde=True)\n",
    "plt.show()"
   ]
  },
  {
   "cell_type": "code",
   "execution_count": null,
   "metadata": {},
   "outputs": [],
   "source": []
  },
  {
   "cell_type": "markdown",
   "metadata": {},
   "source": [
    "## Aproximación de funciones"
   ]
  },
  {
   "cell_type": "code",
   "execution_count": null,
   "metadata": {},
   "outputs": [],
   "source": [
    "x = np.linspace(0, 10, 101)"
   ]
  },
  {
   "cell_type": "code",
   "execution_count": null,
   "metadata": {},
   "outputs": [],
   "source": [
    "centers = np.linspace(0.5, 9.5, 16)\n",
    "centers"
   ]
  },
  {
   "cell_type": "code",
   "execution_count": null,
   "metadata": {},
   "outputs": [],
   "source": [
    "#f = 0.75*np.cos(1.7*x) + 1.3*np.cos(1.1*x) + 0.5*np.sin(0.1*x)\n",
    "\n",
    "f = 1.*np.cos(2.7*x) + 1.7*np.cos(1.35*x) + 0.5*np.sin(2.1*x)"
   ]
  },
  {
   "cell_type": "code",
   "execution_count": null,
   "metadata": {},
   "outputs": [],
   "source": [
    "plt.figure(figsize=(5,5))\n",
    "plt.plot(x, f)\n",
    "plt.show()"
   ]
  },
  {
   "cell_type": "code",
   "execution_count": null,
   "metadata": {},
   "outputs": [],
   "source": [
    "n = x.shape[0]\n",
    "d = centers.shape[0]\n",
    "print(n, d)"
   ]
  },
  {
   "cell_type": "code",
   "execution_count": null,
   "metadata": {},
   "outputs": [],
   "source": [
    "X = np.zeros((d, n))\n",
    "sigma = 1.\n",
    "\n",
    "for i in range(0, d):\n",
    "    X[i,:] = basef(x, centers[i], h=sigma, kernel='linear')"
   ]
  },
  {
   "cell_type": "code",
   "execution_count": null,
   "metadata": {},
   "outputs": [],
   "source": [
    "plt.figure(figsize=(5,5))\n",
    "for i in range(0, d):\n",
    "    plt.plot(x, X[i])\n",
    "plt.show()"
   ]
  },
  {
   "cell_type": "code",
   "execution_count": null,
   "metadata": {},
   "outputs": [],
   "source": [
    "y = X @ f\n",
    "a = np.linalg.inv(X@(X.T)) @ y"
   ]
  },
  {
   "cell_type": "code",
   "execution_count": null,
   "metadata": {},
   "outputs": [],
   "source": [
    "a"
   ]
  },
  {
   "cell_type": "code",
   "execution_count": null,
   "metadata": {},
   "outputs": [],
   "source": [
    "f.shape"
   ]
  },
  {
   "cell_type": "code",
   "execution_count": null,
   "metadata": {},
   "outputs": [],
   "source": [
    "plt.figure(figsize=(5,5))\n",
    "for i in range(0, d):\n",
    "    plt.plot(x, a[i]*X[i])\n",
    "plt.show()"
   ]
  },
  {
   "cell_type": "code",
   "execution_count": null,
   "metadata": {},
   "outputs": [],
   "source": [
    "plt.figure(figsize=(5,5))\n",
    "plt.plot(x, f)\n",
    "plt.plot(x, X.T@a)\n",
    "plt.show()"
   ]
  },
  {
   "cell_type": "code",
   "execution_count": null,
   "metadata": {},
   "outputs": [],
   "source": []
  }
 ],
 "metadata": {
  "kernelspec": {
   "display_name": "Python 3 (ipykernel)",
   "language": "python",
   "name": "python3"
  },
  "language_info": {
   "codemirror_mode": {
    "name": "ipython",
    "version": 3
   },
   "file_extension": ".py",
   "mimetype": "text/x-python",
   "name": "python",
   "nbconvert_exporter": "python",
   "pygments_lexer": "ipython3",
   "version": "3.10.9"
  }
 },
 "nbformat": 4,
 "nbformat_minor": 4
}
